{
 "cells": [
  {
   "cell_type": "markdown",
   "id": "4e41f900",
   "metadata": {
    "id": "710ee378"
   },
   "source": [
    "# 종합실습"
   ]
  },
  {
   "cell_type": "markdown",
   "id": "2c9eeb2e",
   "metadata": {
    "id": "e30eb3da"
   },
   "source": [
    "## 과제1. 회원 관리 프로그램"
   ]
  },
  {
   "cell_type": "markdown",
   "id": "f2b893a1",
   "metadata": {
    "id": "8e48b532"
   },
   "source": [
    "* 회원 이름과 이메일 주소를 입력받아 엑셀에 저장하는 프로그램을 만드시오.\n",
    "* 'members.xlsx’ 파일에는 이미 두명의 회원이 등록되어 있습니다. \n",
    "\n",
    "* 기본 기능  \n",
    "> * 이름, 이메일, 전화번호를 입력 받아 (한꺼번에 입력받아, 리스트로 만들어 처리. .split 활용)\n",
    "> * 엑셀 틀에 맞게 제일 마지막 행에 저장\n",
    "> * 단, 이메일 주소는 실제 메일 수신 가능해야 합니다.\n",
    "\n",
    "* 심화 기능\n",
    "> * 입력값 확인. 값이 3개,  쉼표로 구분된 값인지 확인.\n",
    "> * 회원 가입을 계속할지, 종료할지를 묻기"
   ]
  },
  {
   "cell_type": "code",
   "execution_count": 21,
   "id": "b489e5ef",
   "metadata": {},
   "outputs": [
    {
     "name": "stdout",
     "output_type": "stream",
     "text": [
      "<<<회원가입 프로그램입니다.>>>\n",
      "\n",
      "회원가입을 원하시면 1, 아니면 2 를 입력해주세요.\n",
      "1\n",
      "이름, 이메일주소, 전화번호를 쉼표로 구분하여 입력하시오.\n",
      "김대환,gollqpin@gmail.com,010-9936-4229\n",
      "<<<회원가입 프로그램입니다.>>>\n",
      "\n",
      "회원가입을 원하시면 1, 아니면 2 를 입력해주세요.\n",
      "2\n",
      "종료합니다.\n"
     ]
    }
   ],
   "source": [
    "import openpyxl as xl\n",
    "\n",
    "while True:\n",
    "    print('<<<회원가입 프로그램입니다.>>>\\n')\n",
    "    print('회원가입을 원하시면 1, 아니면 2 를 입력해주세요.')\n",
    "    yn = input()\n",
    "    if yn == '1':\n",
    "        print('이름, 이메일주소, 전화번호를 쉼표로 구분하여 입력하시오.')\n",
    "        impormation = input()\n",
    "        impor_list = impormation.split(',')\n",
    "        while len(impor_list) == 3:\n",
    "            if len(impor_list)!=3:\n",
    "                print('잘못된 형식입니다. 다시 입력해주세요')\n",
    "            else:\n",
    "                wb =  xl.load_workbook(\"members.xlsx\")\n",
    "                s1 = wb['Sheet1']\n",
    "                insert_row = s1.max_row + 1\n",
    "                s1.cell(insert_row, 1).value = impor_list[0].strip()\n",
    "                s1.cell(insert_row, 2).value = impor_list[1].strip()\n",
    "                s1.cell(insert_row, 3).value = impor_list[2].strip()\n",
    "                wb.save('members.xlsx')\n",
    "                break\n",
    "    else:\n",
    "        print('종료합니다.')\n",
    "        break"
   ]
  },
  {
   "cell_type": "markdown",
   "id": "0b63fa48",
   "metadata": {
    "id": "8f3a1740"
   },
   "source": [
    "## 과제2. 회원들에게 이메일 발송"
   ]
  },
  {
   "cell_type": "markdown",
   "id": "2492373a",
   "metadata": {
    "id": "7840678c"
   },
   "source": [
    "* 과제1에서 저장된 회원정보(members.xlsx)를 읽어서 회원 각각에게 이메일을 보내 봅시다.\n",
    "\n",
    "> * 제목 : “2021년 송년 인사”\n",
    "> * 내용 :  \n",
    ">     OOO 회원님 안녕하세요?  \n",
    "벌써 2021년도 저물어 가고 있습니다.  \n",
    "올 한해 정말 수고 많았습니다.   \n",
    "첨부한 커피 쿠폰으로 조금이나마 따뜻한 연말을 보내시기 바랍니다.  \n",
    "감사합니다. \n",
    "\n",
    "> * 회원마다 보내지는 이메일에서 각자 달라지는 것은,\t수신 이메일 주소, 메일 내용에서의 회원 이름 입니다."
   ]
  },
  {
   "cell_type": "code",
   "execution_count": 23,
   "id": "a012b9ea",
   "metadata": {
    "id": "5c5a29a9"
   },
   "outputs": [
    {
     "data": {
      "text/plain": [
       "(221, b'2.0.0 closing connection c17sm4774011pjs.34 - gsmtp')"
      ]
     },
     "execution_count": 23,
     "metadata": {},
     "output_type": "execute_result"
    }
   ],
   "source": [
    "import smtplib\n",
    "from email.mime.text import MIMEText\n",
    "\n",
    "wb = xl.load_workbook(\"members.xlsx\")\n",
    "s1 = wb['Sheet1']\n",
    "app_pw = 'jpoamexxwhmyzpct'\n",
    "my_email = 'gollqpin@gmail.com'\n",
    "\n",
    "s = smtplib.SMTP('smtp.gmail.com', 587)\n",
    "s.starttls()\n",
    "s.login(my_email, app_pw)\n",
    "\n",
    "for i in range(2, s1.max_row + 1) :\n",
    "    name = s1.cell(i,1).value\n",
    "    to_email = s1.cell(i,2).value\n",
    "    msg = MIMEText(f'''{name} 회원님 안녕하세요?\n",
    "    벌써 2021년도 저물어 가고 있습니다.\n",
    "    올 한해 정말 수고 많았습니다.\n",
    "    첨부한 커피 쿠폰으로 조금이나마 따뜻한 연말을 보내시기 바랍니다.\n",
    "    감사합니다.\n",
    "    ''')\n",
    "    msg['Subject'] = '2021년 송년 인사'\n",
    "    \n",
    "    s.sendmail(my_email, to_email, msg.as_string())\n",
    "\n",
    "s.quit()"
   ]
  }
 ],
 "metadata": {
  "colab": {
   "collapsed_sections": [],
   "name": "과정_종합실습문제.ipynb",
   "provenance": []
  },
  "kernelspec": {
   "display_name": "Python 3",
   "language": "python",
   "name": "python3"
  },
  "language_info": {
   "codemirror_mode": {
    "name": "ipython",
    "version": 3
   },
   "file_extension": ".py",
   "mimetype": "text/x-python",
   "name": "python",
   "nbconvert_exporter": "python",
   "pygments_lexer": "ipython3",
   "version": "3.8.8"
  }
 },
 "nbformat": 4,
 "nbformat_minor": 5
}
